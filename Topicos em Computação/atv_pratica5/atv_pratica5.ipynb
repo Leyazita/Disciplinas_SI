{
 "cells": [
  {
   "cell_type": "code",
   "execution_count": 1,
   "metadata": {},
   "outputs": [
    {
     "name": "stdout",
     "output_type": "stream",
     "text": [
      "Fraude - Acurácia: 0.89, Recall: 0.78, Precisão: 0.72\n",
      "Modelo 1 - Acurácia: 0.84, Recall: 0.55, Precisão: 0.80\n",
      "Modelo 2 - Acurácia: 0.85, Recall: 0.78, Precisão: 0.72\n"
     ]
    }
   ],
   "source": [
    "def calcular_metricas(TP, TN, FP, FN):\n",
    "    acuracia = (TP + TN) / (TP + TN + FP + FN)\n",
    "    recall = TP / (TP + FN)\n",
    "    precisao = TP / (TP + FP)\n",
    "    return acuracia, recall, precisao\n",
    "\n",
    "# Dados do problema de fraude\n",
    "TP_fraude, TN_fraude, FP_fraude, FN_fraude = 180, 800, 70, 50\n",
    "acuracia_fraude, recall_fraude, precisao_fraude = calcular_metricas(TP_fraude, TN_fraude, FP_fraude, FN_fraude)\n",
    "print(f\"Fraude - Acurácia: {acuracia_fraude:.2f}, Recall: {recall_fraude:.2f}, Precisão: {precisao_fraude:.2f}\")\n",
    "\n",
    "# Dados do modelo 1\n",
    "TP_m1, TN_m1, FP_m1, FN_m1 = 120, 550, 30, 100\n",
    "acuracia_m1, recall_m1, precisao_m1 = calcular_metricas(TP_m1, TN_m1, FP_m1, FN_m1)\n",
    "print(f\"Modelo 1 - Acurácia: {acuracia_m1:.2f}, Recall: {recall_m1:.2f}, Precisão: {precisao_m1:.2f}\")\n",
    "\n",
    "# Dados do modelo 2\n",
    "TP_m2, TN_m2, FP_m2, FN_m2 = 180, 500, 70, 50\n",
    "acuracia_m2, recall_m2, precisao_m2 = calcular_metricas(TP_m2, TN_m2, FP_m2, FN_m2)\n",
    "print(f\"Modelo 2 - Acurácia: {acuracia_m2:.2f}, Recall: {recall_m2:.2f}, Precisão: {precisao_m2:.2f}\")\n"
   ]
  }
 ],
 "metadata": {
  "kernelspec": {
   "display_name": "Python 3",
   "language": "python",
   "name": "python3"
  },
  "language_info": {
   "codemirror_mode": {
    "name": "ipython",
    "version": 3
   },
   "file_extension": ".py",
   "mimetype": "text/x-python",
   "name": "python",
   "nbconvert_exporter": "python",
   "pygments_lexer": "ipython3",
   "version": "3.12.0"
  }
 },
 "nbformat": 4,
 "nbformat_minor": 2
}
